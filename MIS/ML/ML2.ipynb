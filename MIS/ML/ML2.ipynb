{
 "cells": [
  {
   "cell_type": "code",
   "execution_count": 4,
   "id": "31a05cb6-5c96-4e20-8962-c277a3ceb2ae",
   "metadata": {},
   "outputs": [
    {
     "name": "stdout",
     "output_type": "stream",
     "text": [
      "Requirement already satisfied: pandas in /opt/anaconda3/lib/python3.12/site-packages (2.2.2)\n",
      "Requirement already satisfied: numpy in /opt/anaconda3/lib/python3.12/site-packages (1.26.4)\n",
      "Requirement already satisfied: scikit-learn in /opt/anaconda3/lib/python3.12/site-packages (1.4.2)\n",
      "Requirement already satisfied: matplotlib in /opt/anaconda3/lib/python3.12/site-packages (3.8.4)\n",
      "Requirement already satisfied: seaborn in /opt/anaconda3/lib/python3.12/site-packages (0.13.2)\n",
      "Requirement already satisfied: python-dateutil>=2.8.2 in /opt/anaconda3/lib/python3.12/site-packages (from pandas) (2.9.0.post0)\n",
      "Requirement already satisfied: pytz>=2020.1 in /opt/anaconda3/lib/python3.12/site-packages (from pandas) (2024.1)\n",
      "Requirement already satisfied: tzdata>=2022.7 in /opt/anaconda3/lib/python3.12/site-packages (from pandas) (2023.3)\n",
      "Requirement already satisfied: scipy>=1.6.0 in /opt/anaconda3/lib/python3.12/site-packages (from scikit-learn) (1.13.1)\n",
      "Requirement already satisfied: joblib>=1.2.0 in /opt/anaconda3/lib/python3.12/site-packages (from scikit-learn) (1.4.2)\n",
      "Requirement already satisfied: threadpoolctl>=2.0.0 in /opt/anaconda3/lib/python3.12/site-packages (from scikit-learn) (2.2.0)\n",
      "Requirement already satisfied: contourpy>=1.0.1 in /opt/anaconda3/lib/python3.12/site-packages (from matplotlib) (1.2.0)\n",
      "Requirement already satisfied: cycler>=0.10 in /opt/anaconda3/lib/python3.12/site-packages (from matplotlib) (0.11.0)\n",
      "Requirement already satisfied: fonttools>=4.22.0 in /opt/anaconda3/lib/python3.12/site-packages (from matplotlib) (4.51.0)\n",
      "Requirement already satisfied: kiwisolver>=1.3.1 in /opt/anaconda3/lib/python3.12/site-packages (from matplotlib) (1.4.4)\n",
      "Requirement already satisfied: packaging>=20.0 in /opt/anaconda3/lib/python3.12/site-packages (from matplotlib) (23.2)\n",
      "Requirement already satisfied: pillow>=8 in /opt/anaconda3/lib/python3.12/site-packages (from matplotlib) (10.3.0)\n",
      "Requirement already satisfied: pyparsing>=2.3.1 in /opt/anaconda3/lib/python3.12/site-packages (from matplotlib) (3.0.9)\n",
      "Requirement already satisfied: six>=1.5 in /opt/anaconda3/lib/python3.12/site-packages (from python-dateutil>=2.8.2->pandas) (1.16.0)\n",
      "Note: you may need to restart the kernel to use updated packages.\n"
     ]
    }
   ],
   "source": [
    "pip install pandas numpy scikit-learn matplotlib seaborn "
   ]
  },
  {
   "cell_type": "code",
   "execution_count": 1,
   "id": "f3bb3397-8270-4e86-aa59-44b54c271195",
   "metadata": {},
   "outputs": [
    {
     "name": "stdout",
     "output_type": "stream",
     "text": [
      "   ID                             TITLE     GENRE  \\\n",
      "0   1      Oscar et la dame rose (2009)     drama   \n",
      "1   2                      Cupid (1997)  thriller   \n",
      "2   3  Young, Wild and Wonderful (1980)     adult   \n",
      "3   4             The Secret Sin (1915)     drama   \n",
      "4   5            The Unrecovered (2007)     drama   \n",
      "\n",
      "                                         DESCRIPTION  \n",
      "0  Listening in to a conversation between his doc...  \n",
      "1  A brother and sister with a past incestuous re...  \n",
      "2  As the bus empties the students for their fiel...  \n",
      "3  To help their unemployed father make ends meet...  \n",
      "4  The film's title refers not only to the un-rec...  \n",
      "   ID                        TITLE  \\\n",
      "0   1         Edgar's Lunch (1998)   \n",
      "1   2     La guerra de papá (1977)   \n",
      "2   3  Off the Beaten Track (2010)   \n",
      "3   4       Meu Amigo Hindu (2015)   \n",
      "4   5            Er nu zhai (1955)   \n",
      "\n",
      "                                               GENRE  DESCRIPTION  \n",
      "0  L.R. Brane loves his life - his car, his apart...          NaN  \n",
      "1  Spain, March 1964: Quico is a very naughty chi...          NaN  \n",
      "2  One year in the life of Albin and his family o...          NaN  \n",
      "3  His father has died, he hasn't spoken with his...          NaN  \n",
      "4  Before he was known internationally as a marti...          NaN  \n"
     ]
    }
   ],
   "source": [
    "import pandas as pd\n",
    "\n",
    "column_names = ['ID', 'TITLE', 'GENRE', 'DESCRIPTION']\n",
    "\n",
    "train_data=pd.read_csv('train_data.txt',sep=' ::: ', engine='python', header=None, names=column_names)\n",
    "test_data=pd.read_csv('test_data.txt',sep=' ::: ', engine='python', header=None, names=column_names)\n",
    "\n",
    "print(train_data.head())\n",
    "print(test_data.head())"
   ]
  },
  {
   "cell_type": "code",
   "execution_count": 3,
   "id": "766423b1-5ebd-4c8b-9207-c82e5d406670",
   "metadata": {},
   "outputs": [
    {
     "name": "stdout",
     "output_type": "stream",
     "text": [
      "Index(['ID', 'TITLE', 'GENRE', 'DESCRIPTION'], dtype='object')\n",
      "Index(['ID', 'TITLE', 'GENRE', 'DESCRIPTION'], dtype='object')\n"
     ]
    }
   ],
   "source": [
    "print(train_data.columns)\n",
    "print(test_data.columns)\n",
    "# print(test_data_solution.columns)"
   ]
  },
  {
   "cell_type": "code",
   "execution_count": 10,
   "id": "1e4ddc90-50b5-477f-ac8e-72cb47819b9f",
   "metadata": {},
   "outputs": [
    {
     "name": "stdout",
     "output_type": "stream",
     "text": [
      "Missing alues in train data :  ID             0\n",
      "TITLE          0\n",
      "GENRE          0\n",
      "DESCRIPTION    0\n",
      "dtype: int64\n"
     ]
    }
   ],
   "source": [
    "print(\"Missing alues in train data : \",train_data.isnull().sum())"
   ]
  },
  {
   "cell_type": "code",
   "execution_count": 12,
   "id": "0a6e8460-f38f-4ead-9f80-00159b10de62",
   "metadata": {},
   "outputs": [],
   "source": [
    "import re\n",
    "def clean_text(text):\n",
    "    text = re.sub(r'\\W',' ',text)\n",
    "    text = re.sub(r'\\s+',' ',text)\n",
    "    return text.strip().lower()\n",
    "\n",
    "train_data['DESCRIPTION'] = train_data['DESCRIPTION'].apply(clean_text)"
   ]
  },
  {
   "cell_type": "code",
   "execution_count": 13,
   "id": "c8d70c47-263e-4cd9-b988-705ebe1b0cd3",
   "metadata": {},
   "outputs": [
    {
     "data": {
      "image/png": "[encoded data removed]",
      "text/plain": [
       "<Figure size 1200x600 with 1 Axes>"
      ]
     },
     "metadata": {},
     "output_type": "display_data"
    }
   ],
   "source": [
    "import seaborn as sns\n",
    "import matplotlib.pyplot as plt\n",
    "\n",
    "plt.figure(figsize=(12,6))\n",
    "sns.countplot(x='GENRE', data=train_data, order=train_data['GENRE'].value_counts().index)\n",
    "plt.xticks(rotation=90)\n",
    "plt.title('Genere Distribution')\n",
    "plt.show()"
   ]
  },
  {
   "cell_type": "code",
   "execution_count": 14,
   "id": "effc8be3-d99c-4f8e-9cd1-bac4fcd796ec",
   "metadata": {},
   "outputs": [],
   "source": [
    "from sklearn.feature_extraction.text import TfidfVectorizer\n",
    "\n",
    "tfidf_vectorizer=TfidfVectorizer(max_features=5000)\n",
    "X=tfidf_vectorizer.fit_transform(train_data['DESCRIPTION']).toarray()\n",
    "y=train_data['GENRE']"
   ]
  },
  {
   "cell_type": "code",
   "execution_count": 16,
   "id": "92176f69-4cf5-4012-9b93-36855d8d0dd9",
   "metadata": {},
   "outputs": [],
   "source": [
    "from sklearn.model_selection import train_test_split\n",
    "X_train, X_test, y_train, y_test= train_test_split(\n",
    "    X,y, random_state=42, test_size=0.2, stratify=y\n",
    ")"
   ]
  },
  {
   "cell_type": "code",
   "execution_count": 19,
   "id": "dacd8d6f-2ef5-4e77-8552-cd04f990a60d",
   "metadata": {},
   "outputs": [],
   "source": [
    "from sklearn.metrics import accuracy_score, classification_report"
   ]
  },
  {
   "cell_type": "code",
   "execution_count": 19,
   "id": "2881c3fa-c5b2-495b-aaf0-1964ceb79e79",
   "metadata": {},
   "outputs": [
    {
     "name": "stdout",
     "output_type": "stream",
     "text": [
      "Decision Tree Accuracy: 0.33588490270220417\n",
      "              precision    recall  f1-score   support\n",
      "\n",
      "      action       0.07      0.05      0.06       263\n",
      "       adult       0.12      0.11      0.11       118\n",
      "   adventure       0.09      0.08      0.08       155\n",
      "   animation       0.01      0.01      0.01       100\n",
      "   biography       0.00      0.00      0.00        53\n",
      "      comedy       0.30      0.30      0.30      1490\n",
      "       crime       0.04      0.03      0.03       101\n",
      " documentary       0.54      0.58      0.56      2619\n",
      "       drama       0.39      0.43      0.41      2723\n",
      "      family       0.06      0.04      0.05       157\n",
      "     fantasy       0.00      0.00      0.00        65\n",
      "   game-show       0.24      0.23      0.24        39\n",
      "     history       0.00      0.00      0.00        49\n",
      "      horror       0.21      0.17      0.19       441\n",
      "       music       0.21      0.21      0.21       146\n",
      "     musical       0.04      0.04      0.04        55\n",
      "     mystery       0.04      0.03      0.04        64\n",
      "        news       0.00      0.00      0.00        36\n",
      "  reality-tv       0.10      0.10      0.10       177\n",
      "     romance       0.05      0.04      0.04       134\n",
      "      sci-fi       0.07      0.05      0.06       129\n",
      "       short       0.17      0.18      0.18      1015\n",
      "       sport       0.26      0.21      0.23        86\n",
      "   talk-show       0.14      0.13      0.14        78\n",
      "    thriller       0.09      0.07      0.08       318\n",
      "         war       0.00      0.00      0.00        26\n",
      "     western       0.45      0.31      0.37       206\n",
      "\n",
      "    accuracy                           0.34     10843\n",
      "   macro avg       0.14      0.13      0.13     10843\n",
      "weighted avg       0.32      0.34      0.33     10843\n",
      "\n"
     ]
    }
   ],
   "source": [
    "from sklearn.tree import DecisionTreeClassifier\n",
    "\n",
    "dt_model = DecisionTreeClassifier(random_state=42)\n",
    "dt_model.fit(X_train, y_train)\n",
    "y_pred_dt = dt_model.predict(X_test)\n",
    "\n",
    "print(\"Decision Tree Accuracy:\", accuracy_score(y_test, y_pred_dt))\n",
    "print(classification_report(y_test, y_pred_dt))\n"
   ]
  },
  {
   "cell_type": "code",
   "execution_count": 21,
   "id": "6980a8ff-c522-4ae9-a791-376e4bacd8c6",
   "metadata": {},
   "outputs": [
    {
     "name": "stdout",
     "output_type": "stream",
     "text": [
      "KNN Accuracy: 0.41233975836945497\n",
      "              precision    recall  f1-score   support\n",
      "\n",
      "      action       0.17      0.15      0.16       263\n",
      "       adult       0.36      0.23      0.28       118\n",
      "   adventure       0.17      0.11      0.13       155\n",
      "   animation       0.07      0.04      0.05       100\n",
      "   biography       0.00      0.00      0.00        53\n",
      "      comedy       0.31      0.22      0.25      1490\n",
      "       crime       0.05      0.01      0.02       101\n",
      " documentary       0.55      0.66      0.60      2619\n",
      "       drama       0.37      0.72      0.49      2723\n",
      "      family       0.45      0.06      0.10       157\n",
      "     fantasy       0.17      0.02      0.03        65\n",
      "   game-show       0.82      0.59      0.69        39\n",
      "     history       0.25      0.02      0.04        49\n",
      "      horror       0.57      0.16      0.25       441\n",
      "       music       0.60      0.21      0.31       146\n",
      "     musical       0.00      0.00      0.00        55\n",
      "     mystery       0.00      0.00      0.00        64\n",
      "        news       1.00      0.03      0.05        36\n",
      "  reality-tv       0.31      0.05      0.08       177\n",
      "     romance       0.10      0.01      0.01       134\n",
      "      sci-fi       0.46      0.09      0.15       129\n",
      "       short       0.40      0.08      0.14      1015\n",
      "       sport       0.54      0.34      0.41        86\n",
      "   talk-show       0.75      0.15      0.26        78\n",
      "    thriller       0.12      0.01      0.01       318\n",
      "         war       0.20      0.08      0.11        26\n",
      "     western       0.53      0.41      0.46       206\n",
      "\n",
      "    accuracy                           0.41     10843\n",
      "   macro avg       0.34      0.16      0.19     10843\n",
      "weighted avg       0.40      0.41      0.36     10843\n",
      "\n"
     ]
    }
   ],
   "source": [
    "from sklearn.neighbors import KNeighborsClassifier\n",
    "\n",
    "knn_model = KNeighborsClassifier(n_neighbors=5)\n",
    "knn_model.fit(X_train, y_train)\n",
    "y_pred_knn = knn_model.predict(X_test)\n",
    "\n",
    "print(\"KNN Accuracy:\", accuracy_score(y_test, y_pred_knn))\n",
    "print(classification_report(y_test, y_pred_knn))\n"
   ]
  },
  {
   "cell_type": "code",
   "execution_count": 31,
   "id": "3c03ea18-d2df-40d5-96bd-74c75f1a269d",
   "metadata": {},
   "outputs": [
    {
     "name": "stdout",
     "output_type": "stream",
     "text": [
      "Naive Bayes Accuracy: 0.5100986811767961\n",
      "              precision    recall  f1-score   support\n",
      "\n",
      "      action       0.29      0.02      0.04       263\n",
      "       adult       0.33      0.01      0.02       118\n",
      "   adventure       0.60      0.02      0.04       155\n",
      "   animation       0.00      0.00      0.00       100\n",
      "   biography       0.00      0.00      0.00        53\n",
      "      comedy       0.50      0.39      0.44      1490\n",
      "       crime       0.00      0.00      0.00       101\n",
      " documentary       0.56      0.90      0.69      2619\n",
      "       drama       0.45      0.83      0.58      2723\n",
      "      family       0.00      0.00      0.00       157\n",
      "     fantasy       0.00      0.00      0.00        65\n",
      "   game-show       1.00      0.03      0.05        39\n",
      "     history       0.00      0.00      0.00        49\n",
      "      horror       0.77      0.30      0.43       441\n",
      "       music       0.82      0.06      0.11       146\n",
      "     musical       0.00      0.00      0.00        55\n",
      "     mystery       0.00      0.00      0.00        64\n",
      "        news       0.00      0.00      0.00        36\n",
      "  reality-tv       0.00      0.00      0.00       177\n",
      "     romance       0.00      0.00      0.00       134\n",
      "      sci-fi       1.00      0.02      0.05       129\n",
      "       short       0.61      0.09      0.16      1015\n",
      "       sport       0.53      0.09      0.16        86\n",
      "   talk-show       0.00      0.00      0.00        78\n",
      "    thriller       0.20      0.00      0.01       318\n",
      "         war       0.00      0.00      0.00        26\n",
      "     western       1.00      0.43      0.60       206\n",
      "\n",
      "    accuracy                           0.51     10843\n",
      "   macro avg       0.32      0.12      0.12     10843\n",
      "weighted avg       0.48      0.51      0.42     10843\n",
      "\n"
     ]
    },
    {
     "name": "stderr",
     "output_type": "stream",
     "text": [
      "/opt/anaconda3/lib/python3.12/site-packages/sklearn/metrics/_classification.py:1509: UndefinedMetricWarning: Precision is ill-defined and being set to 0.0 in labels with no predicted samples. Use `zero_division` parameter to control this behavior.\n",
      "  _warn_prf(average, modifier, f\"{metric.capitalize()} is\", len(result))\n",
      "/opt/anaconda3/lib/python3.12/site-packages/sklearn/metrics/_classification.py:1509: UndefinedMetricWarning: Precision is ill-defined and being set to 0.0 in labels with no predicted samples. Use `zero_division` parameter to control this behavior.\n",
      "  _warn_prf(average, modifier, f\"{metric.capitalize()} is\", len(result))\n",
      "/opt/anaconda3/lib/python3.12/site-packages/sklearn/metrics/_classification.py:1509: UndefinedMetricWarning: Precision is ill-defined and being set to 0.0 in labels with no predicted samples. Use `zero_division` parameter to control this behavior.\n",
      "  _warn_prf(average, modifier, f\"{metric.capitalize()} is\", len(result))\n"
     ]
    }
   ],
   "source": [
    "from sklearn.naive_bayes import MultinomialNB\n",
    "\n",
    "nb_model = MultinomialNB()\n",
    "nb_model.fit(X_train, y_train)\n",
    "y_pred_nb = nb_model.predict(X_test)\n",
    "\n",
    "print(\"Naive Bayes Accuracy:\", accuracy_score(y_test, y_pred_nb))\n",
    "print(classification_report(y_test, y_pred_nb))\n"
   ]
  },
  {
   "cell_type": "code",
   "execution_count": null,
   "id": "5046d8b8-3513-4fac-ace8-de7331d6b05b",
   "metadata": {},
   "outputs": [],
   "source": []
  },
  {
   "cell_type": "code",
   "execution_count": 30,
   "id": "60683318-95af-4b2c-b191-98c0a339ff4e",
   "metadata": {},
   "outputs": [
    {
     "name": "stdout",
     "output_type": "stream",
     "text": [
      "[LightGBM] [Info] Auto-choosing col-wise multi-threading, the overhead of testing was 0.165658 seconds.\n",
      "You can set `force_col_wise=true` to remove the overhead.\n",
      "[LightGBM] [Info] Total Bins 446366\n",
      "[LightGBM] [Info] Number of data points in the train set: 43371, number of used features: 5000\n",
      "[LightGBM] [Info] Start training from score -3.719098\n",
      "[LightGBM] [Info] Start training from score -4.520567\n",
      "[LightGBM] [Info] Start training from score -4.247827\n",
      "[LightGBM] [Info] Start training from score -4.691094\n",
      "[LightGBM] [Info] Start training from score -5.320960\n",
      "[LightGBM] [Info] Start training from score -1.985224\n",
      "[LightGBM] [Info] Start training from score -4.676131\n",
      "[LightGBM] [Info] Start training from score -1.420609\n",
      "[LightGBM] [Info] Start training from score -1.381946\n",
      "[LightGBM] [Info] Start training from score -4.236600\n",
      "[LightGBM] [Info] Start training from score -5.124587\n",
      "[LightGBM] [Info] Start training from score -5.634121\n",
      "[LightGBM] [Info] Start training from score -5.409688\n",
      "[LightGBM] [Info] Start training from score -3.202774\n",
      "[LightGBM] [Info] Start training from score -4.305934\n",
      "[LightGBM] [Info] Start training from score -5.274869\n",
      "[LightGBM] [Info] Start training from score -5.136283\n",
      "[LightGBM] [Info] Start training from score -5.700813\n",
      "[LightGBM] [Info] Start training from score -4.116516\n",
      "[LightGBM] [Info] Start training from score -4.389688\n",
      "[LightGBM] [Info] Start training from score -4.427571\n",
      "[LightGBM] [Info] Start training from score -2.369101\n",
      "[LightGBM] [Info] Start training from score -4.831108\n",
      "[LightGBM] [Info] Start training from score -4.931343\n",
      "[LightGBM] [Info] Start training from score -3.528415\n",
      "[LightGBM] [Info] Start training from score -6.014107\n",
      "[LightGBM] [Info] Start training from score -3.960952\n",
      "LightGBM Accuracy: 0.5677395554735775\n",
      "              precision    recall  f1-score   support\n",
      "\n",
      "      action       0.51      0.26      0.35       263\n",
      "       adult       0.66      0.30      0.41       118\n",
      "   adventure       0.44      0.15      0.22       155\n",
      "   animation       0.33      0.10      0.15       100\n",
      "   biography       0.00      0.00      0.00        53\n",
      "      comedy       0.53      0.51      0.52      1490\n",
      "       crime       0.20      0.03      0.05       101\n",
      " documentary       0.67      0.84      0.74      2619\n",
      "       drama       0.53      0.77      0.62      2723\n",
      "      family       0.45      0.11      0.17       157\n",
      "     fantasy       0.11      0.02      0.03        65\n",
      "   game-show       0.68      0.54      0.60        39\n",
      "     history       0.38      0.06      0.11        49\n",
      "      horror       0.60      0.55      0.58       441\n",
      "       music       0.61      0.36      0.45       146\n",
      "     musical       0.33      0.07      0.12        55\n",
      "     mystery       0.19      0.05      0.07        64\n",
      "        news       0.38      0.08      0.14        36\n",
      "  reality-tv       0.35      0.19      0.25       177\n",
      "     romance       0.10      0.01      0.03       134\n",
      "      sci-fi       0.53      0.29      0.38       129\n",
      "       short       0.47      0.30      0.36      1015\n",
      "       sport       0.70      0.43      0.53        86\n",
      "   talk-show       0.49      0.23      0.31        78\n",
      "    thriller       0.31      0.14      0.19       318\n",
      "         war       0.00      0.00      0.00        26\n",
      "     western       0.86      0.64      0.73       206\n",
      "\n",
      "    accuracy                           0.57     10843\n",
      "   macro avg       0.42      0.26      0.30     10843\n",
      "weighted avg       0.54      0.57      0.53     10843\n",
      "\n"
     ]
    },
    {
     "name": "stderr",
     "output_type": "stream",
     "text": [
      "/opt/anaconda3/lib/python3.12/site-packages/sklearn/metrics/_classification.py:1509: UndefinedMetricWarning: Precision is ill-defined and being set to 0.0 in labels with no predicted samples. Use `zero_division` parameter to control this behavior.\n",
      "  _warn_prf(average, modifier, f\"{metric.capitalize()} is\", len(result))\n",
      "/opt/anaconda3/lib/python3.12/site-packages/sklearn/metrics/_classification.py:1509: UndefinedMetricWarning: Precision is ill-defined and being set to 0.0 in labels with no predicted samples. Use `zero_division` parameter to control this behavior.\n",
      "  _warn_prf(average, modifier, f\"{metric.capitalize()} is\", len(result))\n",
      "/opt/anaconda3/lib/python3.12/site-packages/sklearn/metrics/_classification.py:1509: UndefinedMetricWarning: Precision is ill-defined and being set to 0.0 in labels with no predicted samples. Use `zero_division` parameter to control this behavior.\n",
      "  _warn_prf(average, modifier, f\"{metric.capitalize()} is\", len(result))\n"
     ]
    }
   ],
   "source": [
    "from lightgbm import LGBMClassifier\n",
    "\n",
    "lgbm_model = LGBMClassifier(random_state=42)\n",
    "lgbm_model.fit(X_train, y_train)\n",
    "y_pred_lgbm = lgbm_model.predict(X_test)\n",
    "\n",
    "print(\"LightGBM Accuracy:\", accuracy_score(y_test, y_pred_lgbm))\n",
    "print(classification_report(y_test, y_pred_lgbm))\n"
   ]
  },
  {
   "cell_type": "code",
   "execution_count": 22,
   "id": "3f81f9f8-6732-4040-a6c0-ccd69c73d720",
   "metadata": {},
   "outputs": [
    {
     "name": "stdout",
     "output_type": "stream",
     "text": [
      "Requirement already satisfied: xgboost in /opt/anaconda3/lib/python3.12/site-packages (3.0.0)\n",
      "Collecting lightgbm\n",
      "  Downloading lightgbm-4.6.0-py3-none-macosx_12_0_arm64.whl.metadata (17 kB)\n",
      "Requirement already satisfied: numpy in /opt/anaconda3/lib/python3.12/site-packages (from xgboost) (1.26.4)\n",
      "Requirement already satisfied: scipy in /opt/anaconda3/lib/python3.12/site-packages (from xgboost) (1.13.1)\n",
      "Downloading lightgbm-4.6.0-py3-none-macosx_12_0_arm64.whl (1.6 MB)\n",
      "\u001b[2K   \u001b[90m━━━━━━━━━━━━━━━━━━━━━━━━━━━━━━━━━━━━━━━━\u001b[0m \u001b[32m1.6/1.6 MB\u001b[0m \u001b[31m8.1 MB/s\u001b[0m eta \u001b[36m0:00:00\u001b[0m00:01\u001b[0m00:01\u001b[0m\n",
      "\u001b[?25hInstalling collected packages: lightgbm\n",
      "Successfully installed lightgbm-4.6.0\n",
      "Note: you may need to restart the kernel to use updated packages.\n"
     ]
    }
   ],
   "source": [
    "pip install xgboost lightgbm"
   ]
  },
  {
   "cell_type": "code",
   "execution_count": 28,
   "id": "a387da3e-2fca-4e85-8c9d-399fca5023ec",
   "metadata": {},
   "outputs": [
    {
     "ename": "ValueError",
     "evalue": "Invalid classes inferred from unique values of `y`.  Expected: [ 0  1  2  3  4  5  6  7  8  9 10 11 12 13 14 15 16 17 18 19 20 21 22 23\n 24 25 26], got ['action' 'adult' 'adventure' 'animation' 'biography' 'comedy' 'crime'\n 'documentary' 'drama' 'family' 'fantasy' 'game-show' 'history' 'horror'\n 'music' 'musical' 'mystery' 'news' 'reality-tv' 'romance' 'sci-fi'\n 'short' 'sport' 'talk-show' 'thriller' 'war' 'western']",
     "output_type": "error",
     "traceback": [
      "\u001b[0;31m---------------------------------------------------------------------------\u001b[0m",
      "\u001b[0;31mValueError\u001b[0m                                Traceback (most recent call last)",
      "Cell \u001b[0;32mIn[28], line 4\u001b[0m\n\u001b[1;32m      1\u001b[0m \u001b[38;5;28;01mfrom\u001b[39;00m \u001b[38;5;21;01mxgboost\u001b[39;00m \u001b[38;5;28;01mimport\u001b[39;00m XGBClassifier\n\u001b[1;32m      3\u001b[0m xgb_model \u001b[38;5;241m=\u001b[39m XGBClassifier(use_label_encoder\u001b[38;5;241m=\u001b[39m\u001b[38;5;28;01mFalse\u001b[39;00m, eval_metric\u001b[38;5;241m=\u001b[39m\u001b[38;5;124m'\u001b[39m\u001b[38;5;124mmlogloss\u001b[39m\u001b[38;5;124m'\u001b[39m)\n\u001b[0;32m----> 4\u001b[0m xgb_model\u001b[38;5;241m.\u001b[39mfit(X_train, y_train)\n\u001b[1;32m      5\u001b[0m y_pred_xgb \u001b[38;5;241m=\u001b[39m xgb_model\u001b[38;5;241m.\u001b[39mpredict(X_test)\n\u001b[1;32m      7\u001b[0m \u001b[38;5;28mprint\u001b[39m(\u001b[38;5;124m\"\u001b[39m\u001b[38;5;124mXGBoost Accuracy:\u001b[39m\u001b[38;5;124m\"\u001b[39m, accuracy_score(y_test, y_pred_xgb))\n",
      "File \u001b[0;32m/opt/anaconda3/lib/python3.12/site-packages/xgboost/core.py:729\u001b[0m, in \u001b[0;36mrequire_keyword_args.<locals>.throw_if.<locals>.inner_f\u001b[0;34m(*args, **kwargs)\u001b[0m\n\u001b[1;32m    727\u001b[0m \u001b[38;5;28;01mfor\u001b[39;00m k, arg \u001b[38;5;129;01min\u001b[39;00m \u001b[38;5;28mzip\u001b[39m(sig\u001b[38;5;241m.\u001b[39mparameters, args):\n\u001b[1;32m    728\u001b[0m     kwargs[k] \u001b[38;5;241m=\u001b[39m arg\n\u001b[0;32m--> 729\u001b[0m \u001b[38;5;28;01mreturn\u001b[39;00m func(\u001b[38;5;241m*\u001b[39m\u001b[38;5;241m*\u001b[39mkwargs)\n",
      "File \u001b[0;32m/opt/anaconda3/lib/python3.12/site-packages/xgboost/sklearn.py:1640\u001b[0m, in \u001b[0;36mXGBClassifier.fit\u001b[0;34m(self, X, y, sample_weight, base_margin, eval_set, verbose, xgb_model, sample_weight_eval_set, base_margin_eval_set, feature_weights)\u001b[0m\n\u001b[1;32m   1635\u001b[0m     expected_classes \u001b[38;5;241m=\u001b[39m \u001b[38;5;28mself\u001b[39m\u001b[38;5;241m.\u001b[39mclasses_\n\u001b[1;32m   1636\u001b[0m \u001b[38;5;28;01mif\u001b[39;00m (\n\u001b[1;32m   1637\u001b[0m     classes\u001b[38;5;241m.\u001b[39mshape \u001b[38;5;241m!=\u001b[39m expected_classes\u001b[38;5;241m.\u001b[39mshape\n\u001b[1;32m   1638\u001b[0m     \u001b[38;5;129;01mor\u001b[39;00m \u001b[38;5;129;01mnot\u001b[39;00m (classes \u001b[38;5;241m==\u001b[39m expected_classes)\u001b[38;5;241m.\u001b[39mall()\n\u001b[1;32m   1639\u001b[0m ):\n\u001b[0;32m-> 1640\u001b[0m     \u001b[38;5;28;01mraise\u001b[39;00m \u001b[38;5;167;01mValueError\u001b[39;00m(\n\u001b[1;32m   1641\u001b[0m         \u001b[38;5;124mf\u001b[39m\u001b[38;5;124m\"\u001b[39m\u001b[38;5;124mInvalid classes inferred from unique values of `y`.  \u001b[39m\u001b[38;5;124m\"\u001b[39m\n\u001b[1;32m   1642\u001b[0m         \u001b[38;5;124mf\u001b[39m\u001b[38;5;124m\"\u001b[39m\u001b[38;5;124mExpected: \u001b[39m\u001b[38;5;132;01m{\u001b[39;00mexpected_classes\u001b[38;5;132;01m}\u001b[39;00m\u001b[38;5;124m, got \u001b[39m\u001b[38;5;132;01m{\u001b[39;00mclasses\u001b[38;5;132;01m}\u001b[39;00m\u001b[38;5;124m\"\u001b[39m\n\u001b[1;32m   1643\u001b[0m     )\n\u001b[1;32m   1645\u001b[0m params \u001b[38;5;241m=\u001b[39m \u001b[38;5;28mself\u001b[39m\u001b[38;5;241m.\u001b[39mget_xgb_params()\n\u001b[1;32m   1647\u001b[0m \u001b[38;5;28;01mif\u001b[39;00m \u001b[38;5;28mcallable\u001b[39m(\u001b[38;5;28mself\u001b[39m\u001b[38;5;241m.\u001b[39mobjective):\n",
      "\u001b[0;31mValueError\u001b[0m: Invalid classes inferred from unique values of `y`.  Expected: [ 0  1  2  3  4  5  6  7  8  9 10 11 12 13 14 15 16 17 18 19 20 21 22 23\n 24 25 26], got ['action' 'adult' 'adventure' 'animation' 'biography' 'comedy' 'crime'\n 'documentary' 'drama' 'family' 'fantasy' 'game-show' 'history' 'horror'\n 'music' 'musical' 'mystery' 'news' 'reality-tv' 'romance' 'sci-fi'\n 'short' 'sport' 'talk-show' 'thriller' 'war' 'western']"
     ]
    }
   ],
   "source": []
  },
  {
   "cell_type": "code",
   "execution_count": null,
   "id": "afdbeaea-2dad-49f6-8cab-d618d8858522",
   "metadata": {},
   "outputs": [],
   "source": []
  },
  {
   "cell_type": "code",
   "execution_count": 32,
   "id": "7ef104b8-1f17-4adf-89a1-cb4af18141e0",
   "metadata": {},
   "outputs": [
    {
     "name": "stdout",
     "output_type": "stream",
     "text": [
      "Classes: ['action' 'adult' 'adventure' 'animation' 'biography' 'comedy' 'crime'\n",
      " 'documentary' 'drama' 'family' 'fantasy' 'game-show' 'history' 'horror'\n",
      " 'music' 'musical' 'mystery' 'news' 'reality-tv' 'romance' 'sci-fi'\n",
      " 'short' 'sport' 'talk-show' 'thriller' 'war' 'western']\n"
     ]
    }
   ],
   "source": [
    "from sklearn.preprocessing import LabelEncoder\n",
    "\n",
    "# Initialize LabelEncoder\n",
    "label_encoder = LabelEncoder()\n",
    "\n",
    "# Fit and transform the genres\n",
    "y_train_encoded = label_encoder.fit_transform(y_train)\n",
    "y_test_encoded = label_encoder.transform(y_test)\n",
    "\n",
    "print(\"Classes:\", label_encoder.classes_)\n"
   ]
  },
  {
   "cell_type": "code",
   "execution_count": 34,
   "id": "2dadd52a-9a14-4305-832e-7d45c5bf7249",
   "metadata": {},
   "outputs": [
    {
     "name": "stderr",
     "output_type": "stream",
     "text": [
      "/opt/anaconda3/lib/python3.12/site-packages/xgboost/training.py:183: UserWarning: [17:31:43] WARNING: /Users/runner/work/xgboost/xgboost/src/learner.cc:738: \n",
      "Parameters: { \"use_label_encoder\" } are not used.\n",
      "\n",
      "  bst.update(dtrain, iteration=i, fobj=obj)\n"
     ]
    },
    {
     "name": "stdout",
     "output_type": "stream",
     "text": [
      "XGBoost Accuracy: 0.5438531771649913\n",
      "              precision    recall  f1-score   support\n",
      "\n",
      "      action       0.50      0.21      0.29       263\n",
      "       adult       0.60      0.29      0.39       118\n",
      "   adventure       0.47      0.15      0.23       155\n",
      "   animation       0.42      0.13      0.20       100\n",
      "   biography       0.00      0.00      0.00        53\n",
      "      comedy       0.49      0.45      0.47      1490\n",
      "       crime       0.44      0.08      0.13       101\n",
      " documentary       0.64      0.83      0.72      2619\n",
      "       drama       0.50      0.76      0.60      2723\n",
      "      family       0.46      0.08      0.13       157\n",
      "     fantasy       0.00      0.00      0.00        65\n",
      "   game-show       0.74      0.51      0.61        39\n",
      "     history       0.00      0.00      0.00        49\n",
      "      horror       0.63      0.51      0.56       441\n",
      "       music       0.55      0.40      0.46       146\n",
      "     musical       0.67      0.07      0.13        55\n",
      "     mystery       0.33      0.03      0.06        64\n",
      "        news       0.33      0.06      0.10        36\n",
      "  reality-tv       0.39      0.18      0.25       177\n",
      "     romance       0.42      0.04      0.07       134\n",
      "      sci-fi       0.58      0.26      0.36       129\n",
      "       short       0.43      0.24      0.31      1015\n",
      "       sport       0.64      0.41      0.50        86\n",
      "   talk-show       0.48      0.18      0.26        78\n",
      "    thriller       0.28      0.10      0.15       318\n",
      "         war       0.00      0.00      0.00        26\n",
      "     western       0.82      0.60      0.69       206\n",
      "\n",
      "    accuracy                           0.54     10843\n",
      "   macro avg       0.44      0.24      0.28     10843\n",
      "weighted avg       0.52      0.54      0.50     10843\n",
      "\n"
     ]
    },
    {
     "name": "stderr",
     "output_type": "stream",
     "text": [
      "/opt/anaconda3/lib/python3.12/site-packages/sklearn/metrics/_classification.py:1509: UndefinedMetricWarning: Precision is ill-defined and being set to 0.0 in labels with no predicted samples. Use `zero_division` parameter to control this behavior.\n",
      "  _warn_prf(average, modifier, f\"{metric.capitalize()} is\", len(result))\n",
      "/opt/anaconda3/lib/python3.12/site-packages/sklearn/metrics/_classification.py:1509: UndefinedMetricWarning: Precision is ill-defined and being set to 0.0 in labels with no predicted samples. Use `zero_division` parameter to control this behavior.\n",
      "  _warn_prf(average, modifier, f\"{metric.capitalize()} is\", len(result))\n",
      "/opt/anaconda3/lib/python3.12/site-packages/sklearn/metrics/_classification.py:1509: UndefinedMetricWarning: Precision is ill-defined and being set to 0.0 in labels with no predicted samples. Use `zero_division` parameter to control this behavior.\n",
      "  _warn_prf(average, modifier, f\"{metric.capitalize()} is\", len(result))\n"
     ]
    }
   ],
   "source": [
    "from xgboost import XGBClassifier\n",
    "from sklearn.metrics import accuracy_score, classification_report\n",
    "\n",
    "xgb_model = XGBClassifier(use_label_encoder=False, eval_metric='mlogloss')\n",
    "xgb_model.fit(X_train, y_train_encoded)\n",
    "\n",
    "# Predict\n",
    "y_pred_xgb = xgb_model.predict(X_test)\n",
    "\n",
    "# Convert predictions back to genre labels\n",
    "y_pred_labels = label_encoder.inverse_transform(y_pred_xgb)\n",
    "y_test_labels = label_encoder.inverse_transform(y_test_encoded)\n",
    "\n",
    "# Evaluation\n",
    "print(\"XGBoost Accuracy:\", accuracy_score(y_test_labels, y_pred_labels))\n",
    "print(classification_report(y_test_labels, y_pred_labels))\n"
   ]
  },
  {
   "cell_type": "code",
   "execution_count": null,
   "id": "7d175303-9675-49b1-9ced-36d97daeebd7",
   "metadata": {},
   "outputs": [],
   "source": [
    "from sklearn.svm import SVC\n",
    "svm_model= SVC(kernel='linear')\n",
    "svm_model.fit(X_train, y_train)\n",
    "y_pred_svm= svm_model.predict(X_test)\n",
    "\n",
    "print('Accuracy score: ',accuracy_score(y_test,y_pred_svm))\n",
    "print('Classification report: ',classification_report(y_test, y_pred_svm))"
   ]
  },
  {
   "cell_type": "code",
   "execution_count": null,
   "id": "2e8aa037-93fe-4020-be4d-62b5e99697c6",
   "metadata": {},
   "outputs": [],
   "source": []
  },
  {
   "cell_type": "code",
   "execution_count": null,
   "id": "7b431850-5d90-4d7b-a635-368ea16a364f",
   "metadata": {},
   "outputs": [],
   "source": []
  },
  {
   "cell_type": "code",
   "execution_count": null,
   "id": "d7eabd33-e2d4-4a92-b1d9-5444ff3f8d28",
   "metadata": {},
   "outputs": [],
   "source": []
  }
 ],
 "metadata": {
  "kernelspec": {
   "display_name": "Python 3 (ipykernel)",
   "language": "python",
   "name": "python3"
  },
  "language_info": {
   "codemirror_mode": {
    "name": "ipython",
    "version": 3
   },
   "file_extension": ".py",
   "mimetype": "text/x-python",
   "name": "python",
   "nbconvert_exporter": "python",
   "pygments_lexer": "ipython3",
   "version": "3.12.4"
  }
 },
 "nbformat": 4,
 "nbformat_minor": 5
}
