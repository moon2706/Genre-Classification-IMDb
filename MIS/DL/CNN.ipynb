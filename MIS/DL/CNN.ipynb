{
 "cells": [
  {
   "cell_type": "code",
   "execution_count": 8,
   "id": "2a4ee84c-47f5-409b-939f-bdb0e6d2cb31",
   "metadata": {},
   "outputs": [
    {
     "name": "stdout",
     "output_type": "stream",
     "text": [
      "   ID                             TITLE     GENRE  \\\n",
      "0   1      Oscar et la dame rose (2009)     drama   \n",
      "1   2                      Cupid (1997)  thriller   \n",
      "2   3  Young, Wild and Wonderful (1980)     adult   \n",
      "3   4             The Secret Sin (1915)     drama   \n",
      "4   5            The Unrecovered (2007)     drama   \n",
      "\n",
      "                                         DESCRIPTION  \n",
      "0  Listening in to a conversation between his doc...  \n",
      "1  A brother and sister with a past incestuous re...  \n",
      "2  As the bus empties the students for their fiel...  \n",
      "3  To help their unemployed father make ends meet...  \n",
      "4  The film's title refers not only to the un-rec...  \n",
      "   ID                        TITLE  \\\n",
      "0   1         Edgar's Lunch (1998)   \n",
      "1   2     La guerra de papá (1977)   \n",
      "2   3  Off the Beaten Track (2010)   \n",
      "3   4       Meu Amigo Hindu (2015)   \n",
      "4   5            Er nu zhai (1955)   \n",
      "\n",
      "                                               GENRE  DESCRIPTION  \n",
      "0  L.R. Brane loves his life - his car, his apart...          NaN  \n",
      "1  Spain, March 1964: Quico is a very naughty chi...          NaN  \n",
      "2  One year in the life of Albin and his family o...          NaN  \n",
      "3  His father has died, he hasn't spoken with his...          NaN  \n",
      "4  Before he was known internationally as a marti...          NaN  \n"
     ]
    }
   ],
   "source": [
    "import numpy as np\n",
    "import tensorflow as tf\n",
    "from tensorflow.keras.layers import Embedding, LSTM, Dense, SpatialDropout1D\n",
    "from tensorflow.keras.models import Sequential\n",
    "from sklearn.model_selection import train_test_split\n",
    "from sklearn.preprocessing import LabelEncoder\n",
    "from tensorflow.keras.preprocessing.text import Tokenizer\n",
    "from tensorflow.keras.preprocessing.sequence import pad_sequences\n",
    "\n",
    "import pandas as pd\n",
    "\n",
    "column_names = ['ID', 'TITLE', 'GENRE', 'DESCRIPTION']\n",
    "\n",
    "train_data=pd.read_csv('train_data.txt',sep=' ::: ', engine='python', header=None, names=column_names)\n",
    "test_data=pd.read_csv('test_data.txt',sep=' ::: ', engine='python', header=None, names=column_names)\n",
    "\n",
    "print(train_data.head())\n",
    "print(test_data.head())\n"
   ]
  },
  {
   "cell_type": "code",
   "execution_count": 10,
   "id": "9226ffb2-8a2e-481d-a536-83f06adccb60",
   "metadata": {},
   "outputs": [],
   "source": [
    "# Data Preprocessing\n",
    "train_data['DESCRIPTION'] = train_data['DESCRIPTION'].astype(str).str.lower()\n",
    "test_data['DESCRIPTION'] = test_data['DESCRIPTION'].astype(str).str.lower()\n",
    "\n",
    "# Encode Labels\n",
    "label_encoder = LabelEncoder()\n",
    "train_data['GENRE'] = label_encoder.fit_transform(train_data['GENRE'])\n",
    "\n",
    "# Tokenization\n",
    "tokenizer = Tokenizer(num_words=5000)\n",
    "tokenizer.fit_on_texts(train_data['DESCRIPTION'])\n",
    "X_train = tokenizer.texts_to_sequences(train_data['DESCRIPTION'])\n",
    "X_test = tokenizer.texts_to_sequences(test_data['DESCRIPTION'])\n",
    "\n",
    "# Padding\n",
    "max_len = 200\n",
    "X_train = pad_sequences(X_train, maxlen=max_len)\n",
    "X_test = pad_sequences(X_test, maxlen=max_len)\n",
    "y_train = train_data['GENRE']"
   ]
  },
  {
   "cell_type": "code",
   "execution_count": null,
   "id": "01c8c70a-f059-4e3d-b1ad-5a040d78fc75",
   "metadata": {},
   "outputs": [
    {
     "name": "stdout",
     "output_type": "stream",
     "text": [
      "Epoch 1/10\n"
     ]
    },
    {
     "name": "stderr",
     "output_type": "stream",
     "text": [
      "/opt/anaconda3/lib/python3.12/site-packages/keras/src/layers/core/embedding.py:90: UserWarning: Argument `input_length` is deprecated. Just remove it.\n",
      "  warnings.warn(\n"
     ]
    },
    {
     "name": "stdout",
     "output_type": "stream",
     "text": [
      "\u001b[1m678/678\u001b[0m \u001b[32m━━━━━━━━━━━━━━━━━━━━\u001b[0m\u001b[37m\u001b[0m \u001b[1m15s\u001b[0m 22ms/step - accuracy: 0.3686 - loss: 2.2513 - val_accuracy: 0.5096 - val_loss: 1.7257\n",
      "Epoch 2/10\n",
      "\u001b[1m678/678\u001b[0m \u001b[32m━━━━━━━━━━━━━━━━━━━━\u001b[0m\u001b[37m\u001b[0m \u001b[1m15s\u001b[0m 22ms/step - accuracy: 0.5569 - loss: 1.5517 - val_accuracy: 0.5463 - val_loss: 1.5839\n",
      "Epoch 3/10\n",
      "\u001b[1m678/678\u001b[0m \u001b[32m━━━━━━━━━━━━━━━━━━━━\u001b[0m\u001b[37m\u001b[0m \u001b[1m15s\u001b[0m 22ms/step - accuracy: 0.6444 - loss: 1.2370 - val_accuracy: 0.5469 - val_loss: 1.5922\n",
      "Epoch 4/10\n",
      "\u001b[1m678/678\u001b[0m \u001b[32m━━━━━━━━━━━━━━━━━━━━\u001b[0m\u001b[37m\u001b[0m \u001b[1m15s\u001b[0m 22ms/step - accuracy: 0.7277 - loss: 0.9542 - val_accuracy: 0.5405 - val_loss: 1.7205\n",
      "Epoch 5/10\n",
      "\u001b[1m635/678\u001b[0m \u001b[32m━━━━━━━━━━━━━━━━━━\u001b[0m\u001b[37m━━\u001b[0m \u001b[1m0s\u001b[0m 21ms/step - accuracy: 0.8182 - loss: 0.6582"
     ]
    }
   ],
   "source": [
    "from tensorflow.keras.layers import Conv1D, GlobalMaxPooling1D\n",
    "\n",
    "model_cnn = Sequential()\n",
    "model_cnn.add(Embedding(input_dim=5000, output_dim=128, input_length=max_len))\n",
    "model_cnn.add(Conv1D(64, 5, activation='relu'))\n",
    "model_cnn.add(GlobalMaxPooling1D())\n",
    "model_cnn.add(Dense(64, activation='relu'))\n",
    "model_cnn.add(Dense(len(label_encoder.classes_), activation='softmax'))\n",
    "\n",
    "model_cnn.compile(loss='sparse_categorical_crossentropy', optimizer='adam', metrics=['accuracy'])\n",
    "\n",
    "# Training\n",
    "model_cnn.fit(X_train, y_train, epochs=10, batch_size=64, validation_split=0.2)\n",
    "\n",
    "# Evaluation\n",
    "accuracy_cnn = model_cnn.evaluate(X_train, y_train)[1] * 100\n",
    "print(f\"CNN Model Training Accuracy: {accuracy_cnn:.2f}%\")"
   ]
  },
  {
   "cell_type": "code",
   "execution_count": null,
   "id": "d173bdbd-cf93-4cdf-a435-6d3cc4f60892",
   "metadata": {},
   "outputs": [],
   "source": []
  }
 ],
 "metadata": {
  "kernelspec": {
   "display_name": "Python 3 (ipykernel)",
   "language": "python",
   "name": "python3"
  },
  "language_info": {
   "codemirror_mode": {
    "name": "ipython",
    "version": 3
   },
   "file_extension": ".py",
   "mimetype": "text/x-python",
   "name": "python",
   "nbconvert_exporter": "python",
   "pygments_lexer": "ipython3",
   "version": "3.12.4"
  }
 },
 "nbformat": 4,
 "nbformat_minor": 5
}
